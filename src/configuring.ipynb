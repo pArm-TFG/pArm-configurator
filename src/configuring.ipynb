{
 "cells": [
  {
   "cell_type": "markdown",
   "metadata": {},
   "source": [
    "# Setting up the *p-Arm* configuration"
   ]
  },
  {
   "cell_type": "markdown",
   "metadata": {},
   "source": [
    "Through this guide the basic params for the *p-Arm* manipulator will be set-up.\n",
    "\n",
    "The required options are:\n",
    "\n",
    "+ The **end-effector** length.\n",
    "+ The **lower arm** length.\n",
    "+ The **upper arm** lenght.\n",
    "+ The **base** height.\n",
    "+ The **little deviation** from base.\n",
    "\n",
    "All these information conforms de *Denavit-Hartenberg* table which allows us to understand how the movement of each motor (joint) will affect the final position. For this arm in particular, it is working on the $XZ$ axis, so the first $a_i$ is swapped with the correspondant $d_i$.\n",
    "\n",
    "In addition, we have to know the angle in between each joint. Having a look to the picture, we know that only the first segment and the second one have an angle different to '0'.\n",
    "\n",
    "![uArm sizes and configuration](https://github.com/UPM-Robotics/uarm/raw/master/docs/memory/images/sizes.png \"uArm sizes\")\n",
    "\n",
    "Finally, as the *end-effector* position is always parallel to the floor (this means its angle is always $π$), we can remove it from the table and include it as a traslation in the '$Z$' axis.\n",
    "\n",
    "So then, the final table results as:\n",
    "\n",
    "| $i$ | $θ_i$ | $d_i (mm.)$ | $a_i (mm.)$ | $α_i$ |\n",
    "|---|:--:|----------|----------|----|\n",
    "| $1$ | $θ_1$ |       $d_1$ |       $a_1$ | $α_1$ |\n",
    "| $2$ | $θ_2$ |        $0$ |       $a_2$ | $α_2$ |\n",
    "| $3$ | $θ_3$ |        $0$ |       $a_3$ |  $0$ |"
   ]
  },
  {
   "cell_type": "markdown",
   "metadata": {},
   "source": [
    "## Install the required packages\n",
    "\n",
    "For running, it is necessary to install the `sympy` module (see [sympy on GitHub](https://github.com/sympy/sympy)) and `numpy` ([numpy](https://numpy.org/))."
   ]
  },
  {
   "cell_type": "code",
   "execution_count": null,
   "metadata": {
    "tags": []
   },
   "outputs": [],
   "source": [
    "pip install sympy numpy"
   ]
  },
  {
   "cell_type": "markdown",
   "metadata": {},
   "source": [
    "Now, import `DHTable` from the `manipulator` package and start defining things.\n",
    "\n",
    "As we saw in the previous table, we need three symbols: $θ_1$, $θ_2$, $θ_3$."
   ]
  },
  {
   "cell_type": "code",
   "execution_count": null,
   "metadata": {},
   "outputs": [],
   "source": [
    "from manipulator import (\n",
    "    DHTable,\n",
    "    pi,\n",
    "    Manipulator\n",
    ")\n",
    "from sympy import symbols\n",
    "\n",
    "parm_table = DHTable()\n",
    "t1, t2, t3 = symbols(\"theta_1 theta_2 theta_3\")"
   ]
  },
  {
   "cell_type": "markdown",
   "metadata": {},
   "source": [
    "Now, as we have our three symbols, we must fill the other values necessary to the table to work properly. As shown in the table, we need to define:\n",
    "\n",
    "+ $a_1$, $a_2$, $a_3$.\n",
    "+ $d_1$.\n",
    "+ $α_1$, $α_2$.\n",
    "+ $T_X$, $T_Z$.\n",
    "\n",
    "The latest ones ($T_x$, $T_z$) stand for the traslation in the $X$ axis and traslation in $Z$ axis."
   ]
  },
  {
   "cell_type": "code",
   "execution_count": null,
   "metadata": {},
   "outputs": [],
   "source": [
    "# Different arm lengths\n",
    "## For specific lengths\n",
    "# a1 = 13.2\n",
    "# a2 = 142.07\n",
    "# a3 = 158.81\n",
    "## For symbolic calculus\n",
    "a1, a2, a3 = symbols(\"a_1 a_2 a_3\")\n",
    "\n",
    "# The deviation present in between joints\n",
    "## For specific lengths\n",
    "# d1 = 106.6\n",
    "## For symbolic calculus\n",
    "d1 = symbols(\"d_1\")\n",
    "\n",
    "# The traslations in both X and Z axis\n",
    "## For specific lengths\n",
    "# Tx = 44.5\n",
    "# Tz = -13.2\n",
    "## For symbolic calculus\n",
    "Tx, Tz = symbols(\"T_X T_Z\")\n",
    "\n",
    "# The angle in between joints\n",
    "alpha_1 = (pi / 2)\n",
    "alpha_2 = pi"
   ]
  },
  {
   "cell_type": "markdown",
   "metadata": {},
   "source": [
    "Then, we can define the `DHTable` by using the `add` method, as follows:"
   ]
  },
  {
   "cell_type": "code",
   "execution_count": null,
   "metadata": {},
   "outputs": [],
   "source": [
    "## False for symbolic calculus\n",
    "is_digits = False\n",
    "parm_table.add(theta=t1, d=d1, a=a1, alpha=alpha_1, check_attrs=is_digits)\\\n",
    "          .add(theta=t2, d=0, a=a2, alpha=alpha_2, check_attrs=is_digits)\\\n",
    "          .add(theta=t3, d=0, a=a3, alpha=0, check_attrs=is_digits)\n",
    "parm_table.Tx = Tx\n",
    "parm_table.Tz = Tz"
   ]
  },
  {
   "cell_type": "markdown",
   "metadata": {},
   "source": [
    "The generated table is:"
   ]
  },
  {
   "cell_type": "code",
   "execution_count": null,
   "metadata": {
    "tags": []
   },
   "outputs": [],
   "source": [
    "print(parm_table)"
   ]
  },
  {
   "cell_type": "markdown",
   "metadata": {},
   "source": [
    "Now, we can declare a `Manipulator` with the obtained data, so we can directly obtain the forward kinematics matrices:"
   ]
  },
  {
   "cell_type": "code",
   "execution_count": null,
   "metadata": {
    "tags": []
   },
   "outputs": [],
   "source": [
    "from pprint import pprint\n",
    "from IPython.display import display, Latex\n",
    "\n",
    "pArm = Manipulator(params=parm_table)\n",
    "\n",
    "latmat_tmpl = \"\\\\begin{{equation*}}^{0}T_{1}={2}\\\\end{{equation*}}\"\n",
    "# print each matrix data\n",
    "for matrix in ['A01', 'A12', 'A23', 'A02', 'A03']:\n",
    "    mat = latmat_tmpl.format(matrix[1], matrix[2], pArm.to_latrix('p', matrix))\n",
    "    display(Latex(mat))"
   ]
  },
  {
   "cell_type": "markdown",
   "metadata": {},
   "source": [
    "In this case, we are interested in the matrix which is the multiplication of all the other matrices, in this case `A03`"
   ]
  },
  {
   "cell_type": "code",
   "execution_count": null,
   "metadata": {
    "tags": []
   },
   "outputs": [],
   "source": [
    "pprint(pArm.direct_kinematics['A03'])"
   ]
  },
  {
   "source": [
    "More beautifully:"
   ],
   "cell_type": "markdown",
   "metadata": {}
  },
  {
   "cell_type": "code",
   "execution_count": null,
   "metadata": {},
   "outputs": [],
   "source": [
    "latmat = f\"\\\\begin{{equation*}}^0T_3={pArm.to_latrix('p', 'A03')}\\\\end{{equation*}}\"\n",
    "display(Latex(latmat))"
   ]
  },
  {
   "source": [
    "Obtaining for $X$, $Y$, $Z$:"
   ],
   "cell_type": "markdown",
   "metadata": {}
  },
  {
   "cell_type": "code",
   "execution_count": null,
   "metadata": {
    "tags": []
   },
   "outputs": [],
   "source": [
    "from sympy import latex\n",
    "\n",
    "x = pArm.direct_kinematics['A03'][0, 3]\n",
    "y = pArm.direct_kinematics['A03'][1, 3]\n",
    "z = pArm.direct_kinematics['A03'][2, 3]\n",
    "\n",
    "xyz_latex = \\\n",
    "f\"\"\"\\\\begin{{equation}}\\n\n",
    "    \\\\left.\\\\begin{{aligned}}\\n\n",
    "        X_e &= {latex(x)} \\\\\\\\\\n\n",
    "        Y_e &= {latex(y)} \\\\\\\\\\n\n",
    "        Z_e &= {latex(z)} \\\\\\\\\\n\n",
    "    \\\\end{{aligned}}\\\\right\\\\}}\\n\n",
    "\\\\end{{equation}}\"\"\"\n",
    "\n",
    "display(Latex(xyz_latex))"
   ]
  },
  {
   "source": [
    "## Obtaining the Jacobian matrices"
   ],
   "cell_type": "markdown",
   "metadata": {}
  },
  {
   "source": [
    "The Jacobina matrices allows us to obtain the relationship in between joints angular speed\n",
    "and end-effector linear speed. They are defined as the partial derivative of both $\\dot{x}$ and $\\dot{q}$, and it is defined as:\n",
    "\n",
    "\\begin{equation}\n",
    "    J_{ee}\\left(\\dot{q}\\right) = \n",
    "    \\begin{bmatrix}\n",
    "        J_v\\left(\\dot{q}\\right) \\\\\n",
    "        J_{\\omega}\\left(\\dot{q}\\right)\n",
    "    \\end{bmatrix}\n",
    "\\end{equation}\n",
    "\n",
    "in which $J_v\\left(\\dot{q}\\right)$ is defined by:\n",
    "\n",
    "\\begin{equation}\n",
    "    J_v\\left(\\dot{q}\\right) = \n",
    "    \\begin{bmatrix}\n",
    "        \\frac{\\partial X_e}{\\partial q_0} & \\frac{\\partial X_e}{q_1} & \\cdots & \\frac{\\partial X_e}{q_n} & \\frac{\\partial X_e}{d_1} & \\cdots & \\frac{\\partial X_e}{d_n} \\\\[3ex]\n",
    "        \\frac{\\partial Y_e}{\\partial q_0} & \\frac{\\partial Y_e}{q_1} & \\cdots & \\frac{\\partial Y_e}{q_n} & \\frac{\\partial Y_e}{d_1} & \\cdots & \\frac{\\partial Y_e}{d_n} \\\\[3ex]\n",
    "        \\frac{\\partial Z_e}{\\partial q_0} & \\frac{\\partial Z_e}{q_1} & \\cdots & \\frac{\\partial Z_e}{q_n} & \\frac{\\partial Z_e}{d_1} & \\cdots & \\frac{\\partial Z_e}{d_n} \\\\\n",
    "    \\end{bmatrix}\n",
    "\\end{equation}\n",
    "\n",
    "and $J_{\\omega}\\left(\\dot{q}\\right)$ is defined by:\n",
    "\n",
    "\\begin{equation}\n",
    "    J_{\\omega}\\left(\\dot{q}\\right) =\n",
    "    \\begin{bmatrix}\n",
    "        \\frac{\\partial \\phi_X}{\\partial q_0} & \\frac{\\partial \\phi_X}{q_1} & \\cdots & \\frac{\\partial \\phi_X}{q_n} & \\frac{\\partial \\phi_X}{d_1} & \\cdots & \\frac{\\partial \\phi_X}{d_n} \\\\[3ex]\n",
    "        \\frac{\\partial \\phi_Y}{\\partial q_0} & \\frac{\\partial \\phi_Y}{q_1} & \\cdots & \\frac{\\partial \\phi_Y}{q_n} & \\frac{\\partial \\phi_Y}{d_1} & \\cdots & \\frac{\\partial \\phi_Y}{d_n} \\\\[3ex]\n",
    "        \\frac{\\partial \\phi_Z}{\\partial q_0} & \\frac{\\partial \\phi_Z}{q_1} & \\cdots & \\frac{\\partial \\phi_Z}{q_n} & \\frac{\\partial \\phi_Z}{d_1} & \\cdots & \\frac{\\partial \\phi_Z}{d_n} \\\\\n",
    "    \\end{bmatrix}\n",
    "\\end{equation}\n",
    "\n",
    "For the *p*Arm manipulator, we need to define the following rules:\n",
    "\n",
    "\\begin{align*}\n",
    "    \\phi_X &= \\theta_2 - \\theta_3 \\\\\n",
    "    \\phi_Y &= 0 \\\\\n",
    "    \\phi_Z &= \\theta_1\n",
    "\\end{align*}"
   ],
   "cell_type": "markdown",
   "metadata": {}
  },
  {
   "cell_type": "code",
   "execution_count": null,
   "metadata": {},
   "outputs": [],
   "source": [
    "pArm.set_phi('x', t2 - t3)\n",
    "pArm.set_phi('y', 0)\n",
    "pArm.set_phi('z', t1)"
   ]
  },
  {
   "source": [
    "And we can obtain the Jacobian matrix:"
   ],
   "cell_type": "markdown",
   "metadata": {}
  },
  {
   "source": [
    "from manipulator.utils import to_latrix\n",
    "\n",
    "j = pArm.jacobian(subs=(t1, t2, t3))\n",
    "jacobian_latex = \\\n",
    "f\"\"\"\n",
    "\\\\begin{{equation}}\n",
    "    J_{{ee}}\\\\left(\\\\dot{{q}}\\\\right) = {to_latrix('b', j)}\n",
    "\\\\end{{equation}}\n",
    "\"\"\"\n",
    "display(Latex(jacobian_latex))"
   ],
   "cell_type": "code",
   "metadata": {
    "tags": []
   },
   "execution_count": null,
   "outputs": []
  },
  {
   "source": [
    "from which we can obtain the submatrices:"
   ],
   "cell_type": "markdown",
   "metadata": {}
  },
  {
   "cell_type": "code",
   "execution_count": null,
   "metadata": {},
   "outputs": [],
   "source": [
    "jv = j[0:3, 0:3]\n",
    "jq = j[3:6, 0:3]\n",
    "\n",
    "matrices = \\\n",
    "f\"\"\"\n",
    "\\\\begin{{align}}\n",
    "    J_v\\\\left(\\\\dot{{q}}\\\\right) &= {to_latrix('b', jv)} \\\\\\\\\n",
    "    J_{{\\\\omega}}\\\\left(\\\\dot{{q}}\\\\right) &= {to_latrix('b', jq)}\n",
    "\\\\end{{align}}\n",
    "\"\"\"\n",
    "display(Latex(matrices))"
   ]
  },
  {
   "source": [
    "For obtaining the inverse Jacobian matrix, there are two ways for it:\n",
    "\n",
    "+ By trying to obtain directly the inverse Jacobian, if the determinant is zero.\n",
    "+ By obtaining the pseudo-inverse, which is defined by the following equation:\n",
    "\n",
    "\\begin{equation}\n",
    "    J^+ = J^T (J \\cdot J^T)^{-1}\n",
    "\\end{equation}\n",
    "\n",
    "The pseudo-inverse always exists and, in case the inverse also exists, it equals the\n",
    "inverse Jacobian:\n",
    "\n",
    "\\begin{equation}\n",
    "    J^+ \\equiv J^{-1} \\iff \\exists J^{-1}\n",
    "\\end{equation}\n",
    "\n",
    "For the *p*Arm manipulator, the values obtained for the inverse Jacobian are the following:"
   ],
   "cell_type": "markdown",
   "metadata": {}
  },
  {
   "cell_type": "code",
   "execution_count": null,
   "metadata": {},
   "outputs": [],
   "source": [
    "ij = pArm.inverse\n",
    "\n",
    "ij_matrix = \\\n",
    "f\"\"\"\n",
    "\\\\begin{{align}}\n",
    "    J^{{-1}} &= {to_latrix('b', ij)} \\\\\\\\[2ex]\n",
    "    \\\\left|J_{{ee}}\\\\left(\\\\dot{{q}}\\\\right)\\\\right| &= {latex(pArm.inverse_kinematics.det)}\n",
    "\\\\end{{align}}\n",
    "\"\"\"\n",
    "\n",
    "display(Latex(ij_matrix))"
   ]
  },
  {
   "source": [
    "In the equations below we can see that the determinant is zero iff $\\theta_3 = 0$ or $\\theta_3 = \\pi$ but, due to the arm configuration, those angles are not possible as it is limited by the arm."
   ],
   "cell_type": "markdown",
   "metadata": {}
  },
  {
   "cell_type": "code",
   "execution_count": null,
   "metadata": {},
   "outputs": [],
   "source": []
  }
 ],
 "metadata": {
  "kernelspec": {
   "display_name": "Python 3",
   "language": "python",
   "name": "python3"
  },
  "language_info": {
   "codemirror_mode": {
    "name": "ipython",
    "version": 3
   },
   "file_extension": ".py",
   "mimetype": "text/x-python",
   "name": "python",
   "nbconvert_exporter": "python",
   "pygments_lexer": "ipython3",
   "version": "3.8.2-final"
  }
 },
 "nbformat": 4,
 "nbformat_minor": 4
}