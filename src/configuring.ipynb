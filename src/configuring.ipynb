{
 "cells": [
  {
   "cell_type": "markdown",
   "metadata": {},
   "source": [
    "# Setting up the *p-Arm* configuration"
   ]
  },
  {
   "cell_type": "markdown",
   "metadata": {},
   "source": [
    "Through this guide the basic params for the *p-Arm* manipulator will be set-up.\n",
    "\n",
    "The required options are:\n",
    "\n",
    "+ The **end-effector** length.\n",
    "+ The **lower arm** length.\n",
    "+ The **upper arm** lenght.\n",
    "+ The **base** height.\n",
    "+ The **little deviation** from base.\n",
    "\n",
    "All these information conforms de *Denavit-Hartenberg* table which allows us to understand how the movement of each motor (joint) will affect the final position. For this arm in particular, it is working on the $XZ$ axis, so the first $a_i$ is swapped with the correspondant $d_i$.\n",
    "\n",
    "In addition, we have to know the angle in between each joint. Having a look to the picture, we know that only the first segment and the second one have an angle different to '0'.\n",
    "\n",
    "![uArm sizes and configuration](https://github.com/UPM-Robotics/uarm/raw/master/docs/memory/images/sizes.png \"uArm sizes\")\n",
    "\n",
    "Finally, as the *end-effector* position is always parallel to the floor (this means its angle is always $π$), we can remove it from the table and include it as a traslation in the '$Z$' axis.\n",
    "\n",
    "So then, the final table results as:\n",
    "\n",
    "| $i$ | $θ_i$ | $d_i (mm.)$ | $a_i (mm.)$ | $α_i$ |\n",
    "|---|:--:|----------|----------|----|\n",
    "| $1$ | $θ_1$ |       $a_1$ |       $d_1$ | $α_1$ |\n",
    "| $2$ | $θ_2$ |        $0$ |       $a_2$ | $α_2$ |\n",
    "| $3$ | $θ_3$ |        $0$ |       $a_3$ |  $0$ |"
   ]
  },
  {
   "cell_type": "markdown",
   "metadata": {},
   "source": [
    "## Install the required packages\n",
    "\n",
    "For running, it is necessary to install the `sympy` module (see [sympy on GitHub](https://github.com/sympy/sympy)) and `numpy` ([numpy](https://numpy.org/))."
   ]
  },
  {
   "cell_type": "code",
   "execution_count": 1,
   "metadata": {},
   "outputs": [
    {
     "name": "stdout",
     "output_type": "stream",
     "text": [
      "Requirement already satisfied: sympy in /home/javinator9889/.pyenv/versions/3.8.2/lib/python3.8/site-packages (1.6.2)\n",
      "Requirement already satisfied: numpy in /home/javinator9889/.pyenv/versions/3.8.2/lib/python3.8/site-packages (1.19.1)\n",
      "Requirement already satisfied: mpmath>=0.19 in /home/javinator9889/.pyenv/versions/3.8.2/lib/python3.8/site-packages (from sympy) (1.1.0)\n",
      "Note: you may need to restart the kernel to use updated packages.\n"
     ]
    }
   ],
   "source": [
    "pip install sympy numpy"
   ]
  },
  {
   "cell_type": "markdown",
   "metadata": {},
   "source": [
    "Now, import `DHTable` from the `manipulator` package and start defining things.\n",
    "\n",
    "As we saw in the previous table, we need three symbols: $θ_1$, $θ_2$, $θ_3$."
   ]
  },
  {
   "cell_type": "code",
   "execution_count": 8,
   "metadata": {},
   "outputs": [],
   "source": [
    "from manipulator import (\n",
    "    DHTable,\n",
    "    pi,\n",
    "    Manipulator\n",
    ")\n",
    "from sympy import symbols\n",
    "\n",
    "parm_table = DHTable()\n",
    "t1, t2, t3 = symbols(\"theta_1 theta_2 theta_3\")"
   ]
  },
  {
   "cell_type": "markdown",
   "metadata": {},
   "source": [
    "Now, as we have our three symbols, we must fill the other values necessary to the table to work properly. As shown in the table, we need to define:\n",
    "\n",
    "+ $a_1$, $a_2$, $a_3$.\n",
    "+ $d_1$.\n",
    "+ $α_1$, $α_2$.\n",
    "+ $T_X$, $T_Z$.\n",
    "\n",
    "The latest ones ($T_x$, $T_z$) stand for the traslation in the $X$ axis and traslation in $Z$ axis."
   ]
  },
  {
   "cell_type": "code",
   "execution_count": 9,
   "metadata": {},
   "outputs": [],
   "source": [
    "# Different arm lengths\n",
    "## For specific lengths\n",
    "# a1 = 106.6\n",
    "# a2 = 142.07\n",
    "# a3 = 158.81\n",
    "## For symbolic calculus\n",
    "a1, a2, a3 = symbols(\"a_1 a_2 a_3\")\n",
    "\n",
    "# The deviation present in between joints\n",
    "## For specific lengths\n",
    "# d1 = 13.2\n",
    "## For symbolic calculus\n",
    "d1 = symbols(\"d_1\")\n",
    "\n",
    "# The traslations in both X and Z axis\n",
    "## For specific lengths\n",
    "# Tx = 44.5\n",
    "# Tz = -13.2\n",
    "## For symbolic calculus\n",
    "Tx, Tz = symbols(\"T_X T_Z\")\n",
    "\n",
    "# The angle in between joints\n",
    "alpha_1 = (pi / 2)\n",
    "alpha_2 = pi"
   ]
  },
  {
   "cell_type": "markdown",
   "metadata": {},
   "source": [
    "Then, we can define the `DHTable` by using the `add` method, as follows:"
   ]
  },
  {
   "cell_type": "code",
   "execution_count": 11,
   "metadata": {},
   "outputs": [],
   "source": [
    "## False for symbolic calculus\n",
    "is_digits = False\n",
    "parm_table.add(theta=t1, d=a1, a=d1, alpha=alpha_1, check_attrs=is_digits)\\\n",
    "          .add(theta=t2, d=0, a=a2, alpha=alpha_2, check_attrs=is_digits)\\\n",
    "          .add(theta=t3, d=0, a=a3, alpha=0, check_attrs=is_digits)\n",
    "parm_table.Tx = Tx\n",
    "parm_table.Tz = Tz"
   ]
  },
  {
   "cell_type": "markdown",
   "metadata": {},
   "source": [
    "The generated table is:"
   ]
  },
  {
   "cell_type": "code",
   "execution_count": 12,
   "metadata": {},
   "outputs": [
    {
     "name": "stdout",
     "output_type": "stream",
     "text": [
      "   i         θᵢ     dᵢ     aᵢ      αᵢ\n",
      "   1    theta_1    a_1    d_1    pi/2\n",
      "   2    theta_2      0    a_2      pi\n",
      "   3    theta_3      0    a_3       0\n",
      "\n"
     ]
    }
   ],
   "source": [
    "print(parm_table)"
   ]
  },
  {
   "cell_type": "markdown",
   "metadata": {},
   "source": [
    "Now, we can declare a `Manipulator` with the obtained data, so we can directly obtain the forward kinematics matrices:"
   ]
  },
  {
   "cell_type": "code",
   "execution_count": 13,
   "metadata": {},
   "outputs": [
    {
     "name": "stdout",
     "output_type": "stream",
     "text": [
      "A02:\n",
      "----------------------\n",
      "Matrix([\n",
      "[cos(theta_1)*cos(theta_2), sin(theta_2)*cos(theta_1), -sin(theta_1), (a_2*cos(theta_2) + d_1)*cos(theta_1)],\n",
      "[sin(theta_1)*cos(theta_2), sin(theta_1)*sin(theta_2),  cos(theta_1), (a_2*cos(theta_2) + d_1)*sin(theta_1)],\n",
      "[             sin(theta_2),             -cos(theta_2),             0,                a_1 + a_2*sin(theta_2)],\n",
      "[                        0,                         0,             0,                                     1]])\n",
      "A12:\n",
      "----------------------\n",
      "Matrix([\n",
      "[cos(theta_2),  sin(theta_2),  0, a_2*cos(theta_2)],\n",
      "[sin(theta_2), -cos(theta_2),  0, a_2*sin(theta_2)],\n",
      "[           0,             0, -1,                0],\n",
      "[           0,             0,  0,                1]])\n",
      "A03:\n",
      "----------------------\n",
      "Matrix([\n",
      "[cos(theta_1)*cos(theta_2 - theta_3), sin(theta_2 - theta_3)*cos(theta_1), -sin(theta_1), T_X + (a_2*cos(theta_2) + a_3*cos(theta_2 - theta_3) + d_1)*cos(theta_1)],\n",
      "[sin(theta_1)*cos(theta_2 - theta_3), sin(theta_1)*sin(theta_2 - theta_3),  cos(theta_1),       (a_2*cos(theta_2) + a_3*cos(theta_2 - theta_3) + d_1)*sin(theta_1)],\n",
      "[             sin(theta_2 - theta_3),             -cos(theta_2 - theta_3),             0,                T_Z + a_1 + a_2*sin(theta_2) + a_3*sin(theta_2 - theta_3)],\n",
      "[                                  0,                                   0,             0,                                                                        1]])\n",
      "A01:\n",
      "----------------------\n",
      "Matrix([\n",
      "[cos(theta_1), 0,  sin(theta_1), d_1*cos(theta_1)],\n",
      "[sin(theta_1), 0, -cos(theta_1), d_1*sin(theta_1)],\n",
      "[           0, 1,             0,              a_1],\n",
      "[           0, 0,             0,                1]])\n",
      "A23:\n",
      "----------------------\n",
      "Matrix([\n",
      "[cos(theta_3), -sin(theta_3), 0, a_3*cos(theta_3)],\n",
      "[sin(theta_3),  cos(theta_3), 0, a_3*sin(theta_3)],\n",
      "[           0,             0, 1,                0],\n",
      "[           0,             0, 0,                1]])\n"
     ]
    }
   ],
   "source": [
    "from pprint import pprint\n",
    "\n",
    "pArm = Manipulator(params=parm_table)\n",
    "\n",
    "# print each matrix data\n",
    "for matrix in {'A01', 'A12', 'A23', 'A02', 'A03'}:\n",
    "    print(matrix, end=':\\n----------------------\\n')\n",
    "    pprint(pArm.direct_kinematics[matrix])"
   ]
  },
  {
   "cell_type": "markdown",
   "metadata": {},
   "source": [
    "In this case, we are interested in the matrix which is the multiplication of all the other matrices, in this case `A03`"
   ]
  },
  {
   "cell_type": "code",
   "execution_count": 14,
   "metadata": {},
   "outputs": [
    {
     "name": "stdout",
     "output_type": "stream",
     "text": [
      "Matrix([\n",
      "[cos(theta_1)*cos(theta_2 - theta_3), sin(theta_2 - theta_3)*cos(theta_1), -sin(theta_1), T_X + (a_2*cos(theta_2) + a_3*cos(theta_2 - theta_3) + d_1)*cos(theta_1)],\n",
      "[sin(theta_1)*cos(theta_2 - theta_3), sin(theta_1)*sin(theta_2 - theta_3),  cos(theta_1),       (a_2*cos(theta_2) + a_3*cos(theta_2 - theta_3) + d_1)*sin(theta_1)],\n",
      "[             sin(theta_2 - theta_3),             -cos(theta_2 - theta_3),             0,                T_Z + a_1 + a_2*sin(theta_2) + a_3*sin(theta_2 - theta_3)],\n",
      "[                                  0,                                   0,             0,                                                                        1]])\n"
     ]
    }
   ],
   "source": [
    "pprint(pArm.direct_kinematics['A03'])"
   ]
  },
  {
   "cell_type": "code",
   "execution_count": 15,
   "metadata": {},
   "outputs": [
    {
     "name": "stdout",
     "output_type": "stream",
     "text": [
      "%\\usepackage{amsmath}\n",
      "\\begin{pmatrix}\n",
      " \\cos{\\left(\\theta_{1} \\right)} \\cos{\\left(\\theta_{2} - \\theta_{3} \\right)} &  \\sin{\\left(\\theta_{2} - \\theta_{3} \\right)} \\cos{\\left(\\theta_{1} \\right)} &  - \\sin{\\left(\\theta_{1} \\right)} &  T_{X} + \\left(a_{2} \\cos{\\left(\\theta_{2} \\right)} + a_{3} \\cos{\\left(\\theta_{2} - \\theta_{3} \\right)} + d_{1}\\right) \\cos{\\left(\\theta_{1} \\right)} \\\\\n",
      " \\sin{\\left(\\theta_{1} \\right)} \\cos{\\left(\\theta_{2} - \\theta_{3} \\right)} &  \\sin{\\left(\\theta_{1} \\right)} \\sin{\\left(\\theta_{2} - \\theta_{3} \\right)} &  \\cos{\\left(\\theta_{1} \\right)} &  \\left(a_{2} \\cos{\\left(\\theta_{2} \\right)} + a_{3} \\cos{\\left(\\theta_{2} - \\theta_{3} \\right)} + d_{1}\\right) \\sin{\\left(\\theta_{1} \\right)} \\\\\n",
      " \\sin{\\left(\\theta_{2} - \\theta_{3} \\right)} &  - \\cos{\\left(\\theta_{2} - \\theta_{3} \\right)} &  0 &  T_{Z} + a_{1} + a_{2} \\sin{\\left(\\theta_{2} \\right)} + a_{3} \\sin{\\left(\\theta_{2} - \\theta_{3} \\right)} \\\\\n",
      " 0 &  0 &  0 &  1 \\\\\n",
      "\\end{pmatrix}\n"
     ]
    }
   ],
   "source": [
    "print(pArm.to_latrix('p', 'A03'))"
   ]
  },
  {
   "cell_type": "markdown",
   "metadata": {},
   "source": [
    "More beautifully:\n",
    "\n",
    "*Numeric one*:\n",
    "\\begin{pmatrix}\n",
    " \\cos{\\left(\\theta_{1} \\right)} \\cos{\\left(\\theta_{2} - \\theta_{3} \\right)} &  \\sin{\\left(\\theta_{2} - \\theta_{3} \\right)} \\cos{\\left(\\theta_{1} \\right)} &  - \\sin{\\left(\\theta_{1} \\right)} &  \\left(142.07 \\cos{\\left(\\theta_{2} \\right)} + 158.81 \\cos{\\left(\\theta_{2} - \\theta_{3} \\right)} + 13.2\\right) \\cos{\\left(\\theta_{1} \\right)} + 44.5 \\\\\n",
    " \\sin{\\left(\\theta_{1} \\right)} \\cos{\\left(\\theta_{2} - \\theta_{3} \\right)} &  \\sin{\\left(\\theta_{1} \\right)} \\sin{\\left(\\theta_{2} - \\theta_{3} \\right)} &  \\cos{\\left(\\theta_{1} \\right)} &  \\left(142.07 \\cos{\\left(\\theta_{2} \\right)} + 158.81 \\cos{\\left(\\theta_{2} - \\theta_{3} \\right)} + 13.2\\right) \\sin{\\left(\\theta_{1} \\right)} \\\\\n",
    " \\sin{\\left(\\theta_{2} - \\theta_{3} \\right)} &  - \\cos{\\left(\\theta_{2} - \\theta_{3} \\right)} &  0 &  142.07 \\sin{\\left(\\theta_{2} \\right)} + 158.81 \\sin{\\left(\\theta_{2} - \\theta_{3} \\right)} + 93.4 \\\\\n",
    " 0 &  0 &  0 &  1 \\\\\n",
    "\\end{pmatrix}\n",
    "\n",
    "*Parametrized one*:\n",
    "\\begin{pmatrix}\n",
    " \\cos{\\left(\\theta_{1} \\right)} \\cos{\\left(\\theta_{2} - \\theta_{3} \\right)} &  \\sin{\\left(\\theta_{2} - \\theta_{3} \\right)} \\cos{\\left(\\theta_{1} \\right)} &  - \\sin{\\left(\\theta_{1} \\right)} &  T_{X} + \\left(a_{2} \\cos{\\left(\\theta_{2} \\right)} + a_{3} \\cos{\\left(\\theta_{2} - \\theta_{3} \\right)} + d_{1}\\right) \\cos{\\left(\\theta_{1} \\right)} \\\\\n",
    " \\sin{\\left(\\theta_{1} \\right)} \\cos{\\left(\\theta_{2} - \\theta_{3} \\right)} &  \\sin{\\left(\\theta_{1} \\right)} \\sin{\\left(\\theta_{2} - \\theta_{3} \\right)} &  \\cos{\\left(\\theta_{1} \\right)} &  \\left(a_{2} \\cos{\\left(\\theta_{2} \\right)} + a_{3} \\cos{\\left(\\theta_{2} - \\theta_{3} \\right)} + d_{1}\\right) \\sin{\\left(\\theta_{1} \\right)} \\\\\n",
    " \\sin{\\left(\\theta_{2} - \\theta_{3} \\right)} &  - \\cos{\\left(\\theta_{2} - \\theta_{3} \\right)} &  0 &  T_{Z} + a_{1} + a_{2} \\sin{\\left(\\theta_{2} \\right)} + a_{3} \\sin{\\left(\\theta_{2} - \\theta_{3} \\right)} \\\\\n",
    " 0 &  0 &  0 &  1 \\\\\n",
    "\\end{pmatrix}"
   ]
  },
  {
   "cell_type": "markdown",
   "metadata": {},
   "source": [
    "Obtaining for $X$, $Y$ y $Z$:\n",
    "\n",
    "\\begin{equation} \\label{eq:XeYeZe}\n",
    "    \\left.\\begin{aligned}\n",
    "        X_e & = \\left(a_{2} \\cos{\\left(\\theta_{2} \\right)} + a_{3} \\cos{\\left(\\theta_{2} - \\theta_{3} \\right)} + d_{1}\\right) \\cos{\\left(\\theta_{1} \\right)} + T_X \\\\\n",
    "        Y_e & = \\left(a_{2} \\cos{\\left(\\theta_{2} \\right)} + a_{3} \\cos{\\left(\\theta_{2} - \\theta_{3} \\right)} + d_{1}\\right) \\sin{\\left(\\theta_{1} \\right)}       \\\\\n",
    "        Z_e & = a_{1} + a_{2} \\sin{\\left(\\theta_{2} \\right)} + a_{3} \\sin{\\left(\\theta_{2} - \\theta_{3} \\right)} - T_{Z}                                           \\\\\n",
    "    \\end{aligned}\n",
    "    \\right\\}\n",
    "\\end{equation}"
   ]
  },
  {
   "cell_type": "code",
   "execution_count": null,
   "metadata": {},
   "outputs": [],
   "source": []
  }
 ],
 "metadata": {
  "kernelspec": {
   "display_name": "Python 3",
   "language": "python",
   "name": "python3"
  },
  "language_info": {
   "codemirror_mode": {
    "name": "ipython",
    "version": 3
   },
   "file_extension": ".py",
   "mimetype": "text/x-python",
   "name": "python",
   "nbconvert_exporter": "python",
   "pygments_lexer": "ipython3",
   "version": "3.8.2"
  }
 },
 "nbformat": 4,
 "nbformat_minor": 4
}
